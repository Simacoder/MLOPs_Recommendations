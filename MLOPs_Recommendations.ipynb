{
  "nbformat": 4,
  "nbformat_minor": 0,
  "metadata": {
    "colab": {
      "provenance": [],
      "authorship_tag": "ABX9TyPBoMdzIp/fIrSTOq/YXVjv",
      "include_colab_link": true
    },
    "kernelspec": {
      "name": "python3",
      "display_name": "Python 3"
    },
    "language_info": {
      "name": "python"
    }
  },
  "cells": [
    {
      "cell_type": "markdown",
      "metadata": {
        "id": "view-in-github",
        "colab_type": "text"
      },
      "source": [
        "<a href=\"https://colab.research.google.com/github/Simacoder/MLOPs_Recommendations/blob/main/MLOPs_Recommendations.ipynb\" target=\"_parent\"><img src=\"https://colab.research.google.com/assets/colab-badge.svg\" alt=\"Open In Colab\"/></a>"
      ]
    },
    {
      "cell_type": "code",
      "execution_count": 1,
      "metadata": {
        "id": "86UmwAFdRVKn"
      },
      "outputs": [],
      "source": [
        "# Recommendation System MLOPs"
      ]
    },
    {
      "cell_type": "code",
      "source": [
        "# Import necessary libraries\n",
        "import pandas as pd\n",
        "import numpy as np\n",
        "\n",
        "# Step 1 generate the number of user and products\n",
        "num_users = 1000\n",
        "num_products = 500"
      ],
      "metadata": {
        "id": "aaECcVEbRgYT"
      },
      "execution_count": 2,
      "outputs": []
    },
    {
      "cell_type": "code",
      "source": [
        "# Step 2Generate the user data\n",
        "user_data = {\n",
        "    'user_id': np.arange(1, num_users + 1), # Generate User Id from 1to 1000\n",
        "    'age' : np.random.randint(18, 70, size = num_users),\n",
        "    'gender': np.random.choice(['M', 'F'], size= num_users),\n",
        "    'location': np.random.choice(['Urban', 'Suburban', 'Rural'], size=num_users)\n",
        "\n",
        "}\n",
        "\n",
        "# Convert user dictionary into dataframe\n",
        "users_df = pd.DataFrame(user_data)"
      ],
      "metadata": {
        "id": "MBa2MerAR9DO"
      },
      "execution_count": 3,
      "outputs": []
    },
    {
      "cell_type": "code",
      "source": [
        "# Step 3 generating the user product interaction data\n",
        "product_data = {\n",
        "    'product_id': np.arange(1, num_products + 1),\n",
        "    'category': np.random.choice(['Electronics', 'Clothing', 'Home', 'Books'], size=num_products),\n",
        "    'price': np.round(np.random.uniform(5, 500, size=num_products), 2),\n",
        "    'rating': np.round(np.random.uniform(1, 5, size=num_products), 1)\n",
        "}\n",
        "\n",
        "# Converting the product data dictionary to DataFrame\n",
        "products_df = pd.DataFrame(product_data)"
      ],
      "metadata": {
        "id": "0AgX1Tz6ci0C"
      },
      "execution_count": 4,
      "outputs": []
    },
    {
      "cell_type": "code",
      "source": [
        "# Step 4 generating the User product interacting\n",
        "interaction_data = {\n",
        "    'user_id':np.random.choice(users_df['user_id'], size= 5000),\n",
        "    'product_id': np.random.choice(products_df['product_id'], size = 5000),\n",
        "    'rating': np.random.randint(1, 6, size=5000),\n",
        "    'timestamp': pd.date_range(start='2023-01-01', periods=5000, freq = 'T')\n",
        "}\n",
        "# Converting the interaction data dictionary to dataframe\n",
        "interactions_df= pd.DataFrame(interaction_data)\n"
      ],
      "metadata": {
        "colab": {
          "base_uri": "https://localhost:8080/"
        },
        "id": "DZ0Lcj1sfDwh",
        "outputId": "eac4b6a8-60d0-4389-af0d-e1dd85da29eb"
      },
      "execution_count": 6,
      "outputs": [
        {
          "output_type": "stream",
          "name": "stderr",
          "text": [
            "<ipython-input-6-f779eedbd6e8>:6: FutureWarning: 'T' is deprecated and will be removed in a future version, please use 'min' instead.\n",
            "  'timestamp': pd.date_range(start='2023-01-01', periods=5000, freq = 'T')\n"
          ]
        }
      ]
    },
    {
      "cell_type": "code",
      "source": [
        "# Check the first few rows of Data frame\n",
        "users_df.head(), products_df.head(), interactions_df.head()"
      ],
      "metadata": {
        "colab": {
          "base_uri": "https://localhost:8080/"
        },
        "id": "GwU8urIFgvVA",
        "outputId": "7fa94420-5819-4b24-9b4c-c6855f492328"
      },
      "execution_count": 7,
      "outputs": [
        {
          "output_type": "execute_result",
          "data": {
            "text/plain": [
              "(   user_id  age gender  location\n",
              " 0        1   31      M     Rural\n",
              " 1        2   53      M  Suburban\n",
              " 2        3   30      M     Rural\n",
              " 3        4   46      F     Urban\n",
              " 4        5   28      F     Rural,\n",
              "    product_id     category   price  rating\n",
              " 0           1  Electronics  219.82     1.4\n",
              " 1           2         Home   43.07     2.7\n",
              " 2           3         Home  307.74     2.8\n",
              " 3           4  Electronics  282.10     3.0\n",
              " 4           5  Electronics  284.69     1.2,\n",
              "    user_id  product_id  rating           timestamp\n",
              " 0      122         125       4 2023-01-01 00:00:00\n",
              " 1      644         437       3 2023-01-01 00:01:00\n",
              " 2      714         365       4 2023-01-01 00:02:00\n",
              " 3      830         285       2 2023-01-01 00:03:00\n",
              " 4      501         225       1 2023-01-01 00:04:00)"
            ]
          },
          "metadata": {},
          "execution_count": 7
        }
      ]
    }
  ]
}